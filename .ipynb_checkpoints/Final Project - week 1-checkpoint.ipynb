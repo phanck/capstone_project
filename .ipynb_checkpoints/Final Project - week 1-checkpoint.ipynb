{
 "cells": [
  {
   "cell_type": "markdown",
   "metadata": {},
   "source": [
    "# The Battle of Neighborhoods"
   ]
  },
  {
   "cell_type": "markdown",
   "metadata": {},
   "source": [
    "## Week 1\n",
    "----------------------------------------------------------------------------------------------------------------"
   ]
  },
  {
   "cell_type": "code",
   "execution_count": null,
   "metadata": {},
   "outputs": [],
   "source": [
    "<b>1. A description of the problem and a discussion of the background.</b>"
   ]
  },
  {
   "cell_type": "raw",
   "metadata": {},
   "source": [
    "Background: You are new to an area and want to know the best italian resturants to visit. For this project I will use the town of Brooklyn NY.\n",
    "\n",
    "Target Audience: Others in New York that are looking for a similar type of resturant."
   ]
  },
  {
   "cell_type": "markdown",
   "metadata": {},
   "source": [
    "<b>2. A description of the data and how it will be used to solve the problem.</b>\n"
   ]
  },
  {
   "cell_type": "markdown",
   "metadata": {},
   "source": [
    "Leverage the Foursquare location data to get a list of resturants, show the cluster of resturants in comparison to the town, and list their ratings.\n",
    "\n",
    "Description of Data: download foursquare data pertaining to New York and resturants. Dataset should contain location in latitutde and longitude, name of resturant, address of resturant, some type of rating. The dataset will be filtered on italian resturants in Brooklyn and surrounding areas."
   ]
  },
  {
   "cell_type": "code",
   "execution_count": null,
   "metadata": {},
   "outputs": [],
   "source": []
  }
 ],
 "metadata": {
  "kernelspec": {
   "display_name": "Python 3",
   "language": "python",
   "name": "python3"
  },
  "language_info": {
   "codemirror_mode": {
    "name": "ipython",
    "version": 3
   },
   "file_extension": ".py",
   "mimetype": "text/x-python",
   "name": "python",
   "nbconvert_exporter": "python",
   "pygments_lexer": "ipython3",
   "version": "3.7.6"
  }
 },
 "nbformat": 4,
 "nbformat_minor": 4
}
