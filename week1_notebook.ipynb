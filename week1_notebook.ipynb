{
 "cells": [
  {
   "cell_type": "markdown",
   "metadata": {},
   "source": [
    "### Capstone Project\n",
    "this notebook will be used for Applied Data Science Capstone course"
   ]
  },
  {
   "cell_type": "code",
   "execution_count": 1,
   "metadata": {},
   "outputs": [],
   "source": [
    "import pandas as pd"
   ]
  },
  {
   "cell_type": "code",
   "execution_count": 2,
   "metadata": {},
   "outputs": [],
   "source": [
    "import numpy as np"
   ]
  },
  {
   "cell_type": "code",
   "execution_count": 3,
   "metadata": {},
   "outputs": [
    {
     "name": "stdout",
     "output_type": "stream",
     "text": [
      "Hello Capstone Project Course!\n"
     ]
    }
   ],
   "source": [
    "print('Hello Capstone Project Course!')"
   ]
  },
  {
   "cell_type": "code",
   "execution_count": 7,
   "metadata": {},
   "outputs": [],
   "source": [
    "import json, requests\n",
    "url = 'https://api.foursquare.com/v2/venues/explore'\n",
    "\n",
    "params = dict(\n",
    "    client_id='YYW31I33CXBCOLDLRDJXXDBIERD35NENOEBEKXXHR2K45Q5S',\n",
    "    client_secret='TMEMYNC25X4TDNAXKFYCT5O0ZW2LUJ5J5QY3YKXYRWAPYQG4',\n",
    "    v='20201021',\n",
    "    ll='35.071510,-120.575130',\n",
    "    query='coffee',\n",
    "    limit=1\n",
    ")\n",
    "resp = requests.get(url=url, params=params)\n",
    "data = json.loads(resp.text)"
   ]
  },
  {
   "cell_type": "code",
   "execution_count": 8,
   "metadata": {},
   "outputs": [
    {
     "data": {
      "text/plain": [
       "<Response [200]>"
      ]
     },
     "execution_count": 8,
     "metadata": {},
     "output_type": "execute_result"
    }
   ],
   "source": [
    "resp"
   ]
  },
  {
   "cell_type": "code",
   "execution_count": 9,
   "metadata": {},
   "outputs": [
    {
     "data": {
      "text/plain": [
       "{'meta': {'code': 200, 'requestId': '5f90b571b8e5bb202ea9f695'},\n",
       " 'response': {'suggestedFilters': {'header': 'Tap to show:',\n",
       "   'filters': [{'name': 'Open now', 'key': 'openNow'}]},\n",
       "  'warning': {'text': 'There aren\\'t a lot of results for \"coffee.\" Try something more general, reset your filters, or expand the search area.'},\n",
       "  'suggestedRadius': 10000,\n",
       "  'headerLocation': 'Arroyo Grande',\n",
       "  'headerFullLocation': 'Arroyo Grande',\n",
       "  'headerLocationGranularity': 'city',\n",
       "  'query': 'coffee',\n",
       "  'totalResults': 31,\n",
       "  'suggestedBounds': {'ne': {'lat': 35.12169582989272,\n",
       "    'lng': -120.6027620149325},\n",
       "   'sw': {'lat': 35.11899617010727, 'lng': -120.59956998506752}},\n",
       "  'groups': [{'type': 'Recommended Places',\n",
       "    'name': 'recommended',\n",
       "    'items': [{'reasons': {'count': 0,\n",
       "       'items': [{'summary': 'This spot is popular',\n",
       "         'type': 'general',\n",
       "         'reasonName': 'globalInteractionReason'}]},\n",
       "      'venue': {'id': '5759f804498e424ca76bdec0',\n",
       "       'name': 'Starbucks',\n",
       "       'location': {'address': '1211 E Grand Ave',\n",
       "        'lat': 35.120346,\n",
       "        'lng': -120.601166,\n",
       "        'labeledLatLngs': [{'label': 'display',\n",
       "          'lat': 35.120346,\n",
       "          'lng': -120.601166},\n",
       "         {'label': 'entrance', 'lat': 35.120355, 'lng': -120.601088}],\n",
       "        'distance': 5931,\n",
       "        'postalCode': '93420',\n",
       "        'cc': 'US',\n",
       "        'city': 'Arroyo Grande',\n",
       "        'state': 'CA',\n",
       "        'country': 'United States',\n",
       "        'formattedAddress': ['1211 E Grand Ave',\n",
       "         'Arroyo Grande, CA 93420',\n",
       "         'United States']},\n",
       "       'categories': [{'id': '4bf58dd8d48988d1e0931735',\n",
       "         'name': 'Coffee Shop',\n",
       "         'pluralName': 'Coffee Shops',\n",
       "         'shortName': 'Coffee Shop',\n",
       "         'icon': {'prefix': 'https://ss3.4sqi.net/img/categories_v2/food/coffeeshop_',\n",
       "          'suffix': '.png'},\n",
       "         'primary': True}],\n",
       "       'photos': {'count': 0, 'groups': []}},\n",
       "      'referralId': 'e-0-5759f804498e424ca76bdec0-0'}]}]}}"
      ]
     },
     "execution_count": 9,
     "metadata": {},
     "output_type": "execute_result"
    }
   ],
   "source": [
    "data"
   ]
  },
  {
   "cell_type": "code",
   "execution_count": null,
   "metadata": {},
   "outputs": [],
   "source": []
  }
 ],
 "metadata": {
  "kernelspec": {
   "display_name": "Python 3",
   "language": "python",
   "name": "python3"
  },
  "language_info": {
   "codemirror_mode": {
    "name": "ipython",
    "version": 3
   },
   "file_extension": ".py",
   "mimetype": "text/x-python",
   "name": "python",
   "nbconvert_exporter": "python",
   "pygments_lexer": "ipython3",
   "version": "3.7.6"
  }
 },
 "nbformat": 4,
 "nbformat_minor": 4
}
